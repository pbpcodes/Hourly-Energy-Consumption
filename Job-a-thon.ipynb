{
 "cells": [
  {
   "cell_type": "code",
   "execution_count": 12,
   "id": "7a6e39c1",
   "metadata": {},
   "outputs": [],
   "source": [
    "import pandas as pd"
   ]
  },
  {
   "cell_type": "code",
   "execution_count": 13,
   "id": "1f28d61c",
   "metadata": {},
   "outputs": [],
   "source": [
    "df_train = pd.read_csv('train_IxoE5JN.csv')\n",
    "df_test = pd.read_csv('test_WudNWDM.csv')\n",
    "df_submission = pd.read_csv('sample_submission_jn0a7vR.csv')"
   ]
  },
  {
   "cell_type": "code",
   "execution_count": 14,
   "id": "3ac042be",
   "metadata": {},
   "outputs": [
    {
     "data": {
      "text/html": [
       "<div>\n",
       "<style scoped>\n",
       "    .dataframe tbody tr th:only-of-type {\n",
       "        vertical-align: middle;\n",
       "    }\n",
       "\n",
       "    .dataframe tbody tr th {\n",
       "        vertical-align: top;\n",
       "    }\n",
       "\n",
       "    .dataframe thead th {\n",
       "        text-align: right;\n",
       "    }\n",
       "</style>\n",
       "<table border=\"1\" class=\"dataframe\">\n",
       "  <thead>\n",
       "    <tr style=\"text-align: right;\">\n",
       "      <th></th>\n",
       "      <th>row_id</th>\n",
       "      <th>energy</th>\n",
       "    </tr>\n",
       "  </thead>\n",
       "  <tbody>\n",
       "    <tr>\n",
       "      <th>0</th>\n",
       "      <td>94993</td>\n",
       "      <td>1702.995014</td>\n",
       "    </tr>\n",
       "    <tr>\n",
       "      <th>1</th>\n",
       "      <td>94994</td>\n",
       "      <td>1702.995014</td>\n",
       "    </tr>\n",
       "  </tbody>\n",
       "</table>\n",
       "</div>"
      ],
      "text/plain": [
       "   row_id       energy\n",
       "0   94993  1702.995014\n",
       "1   94994  1702.995014"
      ]
     },
     "execution_count": 14,
     "metadata": {},
     "output_type": "execute_result"
    }
   ],
   "source": [
    "df_submission.head(2)"
   ]
  },
  {
   "cell_type": "code",
   "execution_count": 15,
   "id": "f8504902",
   "metadata": {},
   "outputs": [
    {
     "data": {
      "text/html": [
       "<div>\n",
       "<style scoped>\n",
       "    .dataframe tbody tr th:only-of-type {\n",
       "        vertical-align: middle;\n",
       "    }\n",
       "\n",
       "    .dataframe tbody tr th {\n",
       "        vertical-align: top;\n",
       "    }\n",
       "\n",
       "    .dataframe thead th {\n",
       "        text-align: right;\n",
       "    }\n",
       "</style>\n",
       "<table border=\"1\" class=\"dataframe\">\n",
       "  <thead>\n",
       "    <tr style=\"text-align: right;\">\n",
       "      <th></th>\n",
       "      <th>row_id</th>\n",
       "      <th>datetime</th>\n",
       "      <th>energy</th>\n",
       "    </tr>\n",
       "  </thead>\n",
       "  <tbody>\n",
       "    <tr>\n",
       "      <th>0</th>\n",
       "      <td>1</td>\n",
       "      <td>2008-03-01 00:00:00</td>\n",
       "      <td>1259.985563</td>\n",
       "    </tr>\n",
       "    <tr>\n",
       "      <th>1</th>\n",
       "      <td>2</td>\n",
       "      <td>2008-03-01 01:00:00</td>\n",
       "      <td>1095.541500</td>\n",
       "    </tr>\n",
       "  </tbody>\n",
       "</table>\n",
       "</div>"
      ],
      "text/plain": [
       "   row_id             datetime       energy\n",
       "0       1  2008-03-01 00:00:00  1259.985563\n",
       "1       2  2008-03-01 01:00:00  1095.541500"
      ]
     },
     "execution_count": 15,
     "metadata": {},
     "output_type": "execute_result"
    }
   ],
   "source": [
    "df_train.head(2)"
   ]
  },
  {
   "cell_type": "code",
   "execution_count": 16,
   "id": "21eb1703",
   "metadata": {},
   "outputs": [
    {
     "data": {
      "text/html": [
       "<div>\n",
       "<style scoped>\n",
       "    .dataframe tbody tr th:only-of-type {\n",
       "        vertical-align: middle;\n",
       "    }\n",
       "\n",
       "    .dataframe tbody tr th {\n",
       "        vertical-align: top;\n",
       "    }\n",
       "\n",
       "    .dataframe thead th {\n",
       "        text-align: right;\n",
       "    }\n",
       "</style>\n",
       "<table border=\"1\" class=\"dataframe\">\n",
       "  <thead>\n",
       "    <tr style=\"text-align: right;\">\n",
       "      <th></th>\n",
       "      <th>row_id</th>\n",
       "      <th>datetime</th>\n",
       "    </tr>\n",
       "  </thead>\n",
       "  <tbody>\n",
       "    <tr>\n",
       "      <th>0</th>\n",
       "      <td>94993</td>\n",
       "      <td>2019-01-01 00:00:00</td>\n",
       "    </tr>\n",
       "    <tr>\n",
       "      <th>1</th>\n",
       "      <td>94994</td>\n",
       "      <td>2019-01-01 01:00:00</td>\n",
       "    </tr>\n",
       "  </tbody>\n",
       "</table>\n",
       "</div>"
      ],
      "text/plain": [
       "   row_id             datetime\n",
       "0   94993  2019-01-01 00:00:00\n",
       "1   94994  2019-01-01 01:00:00"
      ]
     },
     "execution_count": 16,
     "metadata": {},
     "output_type": "execute_result"
    }
   ],
   "source": [
    "df_test.head(2)"
   ]
  },
  {
   "cell_type": "code",
   "execution_count": 17,
   "id": "03851eb9",
   "metadata": {},
   "outputs": [
    {
     "name": "stdout",
     "output_type": "stream",
     "text": [
      "<class 'pandas.core.frame.DataFrame'>\n",
      "RangeIndex: 94992 entries, 0 to 94991\n",
      "Data columns (total 3 columns):\n",
      " #   Column    Non-Null Count  Dtype  \n",
      "---  ------    --------------  -----  \n",
      " 0   row_id    94992 non-null  int64  \n",
      " 1   datetime  94992 non-null  object \n",
      " 2   energy    93092 non-null  float64\n",
      "dtypes: float64(1), int64(1), object(1)\n",
      "memory usage: 2.2+ MB\n"
     ]
    }
   ],
   "source": [
    "df_train.info()"
   ]
  },
  {
   "cell_type": "code",
   "execution_count": 18,
   "id": "9ea40f90",
   "metadata": {},
   "outputs": [
    {
     "data": {
      "text/plain": [
       "row_id         0\n",
       "datetime       0\n",
       "energy      1900\n",
       "dtype: int64"
      ]
     },
     "execution_count": 18,
     "metadata": {},
     "output_type": "execute_result"
    }
   ],
   "source": [
    "df_train.isna().sum()"
   ]
  },
  {
   "cell_type": "code",
   "execution_count": 19,
   "id": "19bfb712",
   "metadata": {},
   "outputs": [],
   "source": [
    "df_train['energy'].fillna(df_train['energy'].mean(),inplace=True)"
   ]
  },
  {
   "cell_type": "code",
   "execution_count": 20,
   "id": "149f8efd",
   "metadata": {},
   "outputs": [
    {
     "data": {
      "text/plain": [
       "row_id      0\n",
       "datetime    0\n",
       "energy      0\n",
       "dtype: int64"
      ]
     },
     "execution_count": 20,
     "metadata": {},
     "output_type": "execute_result"
    }
   ],
   "source": [
    "df_train.isna().sum()"
   ]
  },
  {
   "cell_type": "code",
   "execution_count": 21,
   "id": "dd0c5f31",
   "metadata": {},
   "outputs": [],
   "source": [
    "new_df_train = df_train\n",
    "new_df_train['Day'] = pd.to_datetime(new_df_train['datetime']).dt.dayofweek\n",
    "new_df_train['Hour'] = pd.to_datetime(new_df_train['datetime']).dt.hour\n",
    "new_df_train['Month'] = pd.to_datetime(new_df_train['datetime']).dt.month\n",
    "new_df_train['Year'] = pd.to_datetime(new_df_train['datetime']).dt.year\n",
    "new_df_train['Quarter'] = pd.to_datetime(new_df_train['datetime']).dt.quarter\n",
    "\n",
    "new_df_train = df_train.set_index('datetime')\n",
    "new_df_train.index = pd.to_datetime(new_df_train.index)\n",
    "\n",
    "new_df_test = df_test\n",
    "new_df_test['Day'] = pd.to_datetime(new_df_test['datetime']).dt.dayofweek\n",
    "new_df_test['Hour'] = pd.to_datetime(new_df_test['datetime']).dt.hour\n",
    "new_df_test['Month'] = pd.to_datetime(new_df_test['datetime']).dt.month\n",
    "new_df_test['Year'] = pd.to_datetime(new_df_test['datetime']).dt.year\n",
    "new_df_test['Quarter'] = pd.to_datetime(new_df_test['datetime']).dt.quarter\n",
    "\n",
    "new_df_test = df_test.set_index('datetime')\n",
    "new_df_test.index = pd.to_datetime(new_df_test.index)"
   ]
  },
  {
   "cell_type": "code",
   "execution_count": null,
   "id": "1b6c1804",
   "metadata": {},
   "outputs": [],
   "source": []
  },
  {
   "cell_type": "code",
   "execution_count": null,
   "id": "c1bc2d90",
   "metadata": {},
   "outputs": [],
   "source": []
  },
  {
   "cell_type": "code",
   "execution_count": 23,
   "id": "0d6deb3a",
   "metadata": {},
   "outputs": [
    {
     "data": {
      "text/plain": [
       "row_id     0\n",
       "energy     0\n",
       "Day        0\n",
       "Hour       0\n",
       "Month      0\n",
       "Year       0\n",
       "Quarter    0\n",
       "dtype: int64"
      ]
     },
     "execution_count": 23,
     "metadata": {},
     "output_type": "execute_result"
    }
   ],
   "source": [
    "new_df_test.head(2)\n",
    "new_df_train.isna().sum()"
   ]
  },
  {
   "cell_type": "code",
   "execution_count": 64,
   "id": "d0538e0c",
   "metadata": {},
   "outputs": [],
   "source": [
    "import xgboost as xgb"
   ]
  },
  {
   "cell_type": "code",
   "execution_count": 65,
   "id": "4d6172c1",
   "metadata": {},
   "outputs": [],
   "source": [
    "from sklearn.metrics import mean_squared_error"
   ]
  },
  {
   "cell_type": "code",
   "execution_count": 25,
   "id": "da84d015",
   "metadata": {},
   "outputs": [],
   "source": [
    "x_train = new_df_train.drop(['energy'],axis=1)\n",
    "y_train = new_df_train['energy']\n"
   ]
  },
  {
   "cell_type": "code",
   "execution_count": 26,
   "id": "16c458a1",
   "metadata": {},
   "outputs": [
    {
     "data": {
      "text/plain": [
       "row_id     0\n",
       "energy     0\n",
       "Day        0\n",
       "Hour       0\n",
       "Month      0\n",
       "Year       0\n",
       "Quarter    0\n",
       "dtype: int64"
      ]
     },
     "execution_count": 26,
     "metadata": {},
     "output_type": "execute_result"
    }
   ],
   "source": [
    "new_df_train.isna().sum()"
   ]
  },
  {
   "cell_type": "code",
   "execution_count": 27,
   "id": "d139cab3",
   "metadata": {},
   "outputs": [],
   "source": [
    "from sklearn.linear_model import LinearRegression\n",
    "lr = LinearRegression()"
   ]
  },
  {
   "cell_type": "code",
   "execution_count": 28,
   "id": "d15657a1",
   "metadata": {},
   "outputs": [
    {
     "data": {
      "text/plain": [
       "LinearRegression()"
      ]
     },
     "execution_count": 28,
     "metadata": {},
     "output_type": "execute_result"
    }
   ],
   "source": [
    "lr.fit(x_train,y_train)"
   ]
  },
  {
   "cell_type": "code",
   "execution_count": 30,
   "id": "ddf06164",
   "metadata": {},
   "outputs": [],
   "source": [
    "predict = lr.predict(new_df_test)"
   ]
  },
  {
   "cell_type": "code",
   "execution_count": 33,
   "id": "5402bfce",
   "metadata": {},
   "outputs": [],
   "source": [
    "idx = new_df_test['row_id']"
   ]
  },
  {
   "cell_type": "code",
   "execution_count": 36,
   "id": "ddfd121c",
   "metadata": {},
   "outputs": [],
   "source": [
    "data = {'row_id':idx,'energy':predict}"
   ]
  },
  {
   "cell_type": "code",
   "execution_count": 44,
   "id": "4a49167b",
   "metadata": {},
   "outputs": [],
   "source": [
    "dat = pd.DataFrame(data)\n",
    "dat.to_csv('submission.csv',index=False)"
   ]
  },
  {
   "cell_type": "code",
   "execution_count": 43,
   "id": "c6e51ce0",
   "metadata": {},
   "outputs": [
    {
     "data": {
      "text/html": [
       "<div>\n",
       "<style scoped>\n",
       "    .dataframe tbody tr th:only-of-type {\n",
       "        vertical-align: middle;\n",
       "    }\n",
       "\n",
       "    .dataframe tbody tr th {\n",
       "        vertical-align: top;\n",
       "    }\n",
       "\n",
       "    .dataframe thead th {\n",
       "        text-align: right;\n",
       "    }\n",
       "</style>\n",
       "<table border=\"1\" class=\"dataframe\">\n",
       "  <thead>\n",
       "    <tr style=\"text-align: right;\">\n",
       "      <th></th>\n",
       "      <th>row_id</th>\n",
       "      <th>energy</th>\n",
       "    </tr>\n",
       "  </thead>\n",
       "  <tbody>\n",
       "    <tr>\n",
       "      <th>0</th>\n",
       "      <td>94993</td>\n",
       "      <td>1702.995014</td>\n",
       "    </tr>\n",
       "    <tr>\n",
       "      <th>1</th>\n",
       "      <td>94994</td>\n",
       "      <td>1702.995014</td>\n",
       "    </tr>\n",
       "    <tr>\n",
       "      <th>2</th>\n",
       "      <td>94995</td>\n",
       "      <td>1702.995014</td>\n",
       "    </tr>\n",
       "    <tr>\n",
       "      <th>3</th>\n",
       "      <td>94996</td>\n",
       "      <td>1702.995014</td>\n",
       "    </tr>\n",
       "    <tr>\n",
       "      <th>4</th>\n",
       "      <td>94997</td>\n",
       "      <td>1702.995014</td>\n",
       "    </tr>\n",
       "    <tr>\n",
       "      <th>...</th>\n",
       "      <td>...</td>\n",
       "      <td>...</td>\n",
       "    </tr>\n",
       "    <tr>\n",
       "      <th>26299</th>\n",
       "      <td>121292</td>\n",
       "      <td>1702.995014</td>\n",
       "    </tr>\n",
       "    <tr>\n",
       "      <th>26300</th>\n",
       "      <td>121293</td>\n",
       "      <td>1702.995014</td>\n",
       "    </tr>\n",
       "    <tr>\n",
       "      <th>26301</th>\n",
       "      <td>121294</td>\n",
       "      <td>1702.995014</td>\n",
       "    </tr>\n",
       "    <tr>\n",
       "      <th>26302</th>\n",
       "      <td>121295</td>\n",
       "      <td>1702.995014</td>\n",
       "    </tr>\n",
       "    <tr>\n",
       "      <th>26303</th>\n",
       "      <td>121296</td>\n",
       "      <td>1702.995014</td>\n",
       "    </tr>\n",
       "  </tbody>\n",
       "</table>\n",
       "<p>26304 rows × 2 columns</p>\n",
       "</div>"
      ],
      "text/plain": [
       "       row_id       energy\n",
       "0       94993  1702.995014\n",
       "1       94994  1702.995014\n",
       "2       94995  1702.995014\n",
       "3       94996  1702.995014\n",
       "4       94997  1702.995014\n",
       "...       ...          ...\n",
       "26299  121292  1702.995014\n",
       "26300  121293  1702.995014\n",
       "26301  121294  1702.995014\n",
       "26302  121295  1702.995014\n",
       "26303  121296  1702.995014\n",
       "\n",
       "[26304 rows x 2 columns]"
      ]
     },
     "execution_count": 43,
     "metadata": {},
     "output_type": "execute_result"
    }
   ],
   "source": [
    "df_submission"
   ]
  },
  {
   "cell_type": "code",
   "execution_count": 45,
   "id": "1c7f62a7",
   "metadata": {},
   "outputs": [
    {
     "data": {
      "text/html": [
       "<div>\n",
       "<style scoped>\n",
       "    .dataframe tbody tr th:only-of-type {\n",
       "        vertical-align: middle;\n",
       "    }\n",
       "\n",
       "    .dataframe tbody tr th {\n",
       "        vertical-align: top;\n",
       "    }\n",
       "\n",
       "    .dataframe thead th {\n",
       "        text-align: right;\n",
       "    }\n",
       "</style>\n",
       "<table border=\"1\" class=\"dataframe\">\n",
       "  <thead>\n",
       "    <tr style=\"text-align: right;\">\n",
       "      <th></th>\n",
       "      <th>row_id</th>\n",
       "      <th>energy</th>\n",
       "    </tr>\n",
       "  </thead>\n",
       "  <tbody>\n",
       "    <tr>\n",
       "      <th>0</th>\n",
       "      <td>94993</td>\n",
       "      <td>1882.660475</td>\n",
       "    </tr>\n",
       "    <tr>\n",
       "      <th>1</th>\n",
       "      <td>94994</td>\n",
       "      <td>1899.405037</td>\n",
       "    </tr>\n",
       "    <tr>\n",
       "      <th>2</th>\n",
       "      <td>94995</td>\n",
       "      <td>1916.149598</td>\n",
       "    </tr>\n",
       "    <tr>\n",
       "      <th>3</th>\n",
       "      <td>94996</td>\n",
       "      <td>1932.894159</td>\n",
       "    </tr>\n",
       "    <tr>\n",
       "      <th>4</th>\n",
       "      <td>94997</td>\n",
       "      <td>1949.638721</td>\n",
       "    </tr>\n",
       "    <tr>\n",
       "      <th>...</th>\n",
       "      <td>...</td>\n",
       "      <td>...</td>\n",
       "    </tr>\n",
       "    <tr>\n",
       "      <th>26299</th>\n",
       "      <td>121292</td>\n",
       "      <td>2428.888693</td>\n",
       "    </tr>\n",
       "    <tr>\n",
       "      <th>26300</th>\n",
       "      <td>121293</td>\n",
       "      <td>2445.633254</td>\n",
       "    </tr>\n",
       "    <tr>\n",
       "      <th>26301</th>\n",
       "      <td>121294</td>\n",
       "      <td>2462.377815</td>\n",
       "    </tr>\n",
       "    <tr>\n",
       "      <th>26302</th>\n",
       "      <td>121295</td>\n",
       "      <td>2479.122376</td>\n",
       "    </tr>\n",
       "    <tr>\n",
       "      <th>26303</th>\n",
       "      <td>121296</td>\n",
       "      <td>2495.866938</td>\n",
       "    </tr>\n",
       "  </tbody>\n",
       "</table>\n",
       "<p>26304 rows × 2 columns</p>\n",
       "</div>"
      ],
      "text/plain": [
       "       row_id       energy\n",
       "0       94993  1882.660475\n",
       "1       94994  1899.405037\n",
       "2       94995  1916.149598\n",
       "3       94996  1932.894159\n",
       "4       94997  1949.638721\n",
       "...       ...          ...\n",
       "26299  121292  2428.888693\n",
       "26300  121293  2445.633254\n",
       "26301  121294  2462.377815\n",
       "26302  121295  2479.122376\n",
       "26303  121296  2495.866938\n",
       "\n",
       "[26304 rows x 2 columns]"
      ]
     },
     "execution_count": 45,
     "metadata": {},
     "output_type": "execute_result"
    }
   ],
   "source": [
    "final_df = pd.read_csv('submission.csv')\n",
    "final_df"
   ]
  },
  {
   "cell_type": "code",
   "execution_count": 47,
   "id": "29736ab9",
   "metadata": {},
   "outputs": [],
   "source": [
    "from sklearn.ensemble import RandomForestRegressor"
   ]
  },
  {
   "cell_type": "code",
   "execution_count": 59,
   "id": "71f7b500",
   "metadata": {},
   "outputs": [],
   "source": [
    "rf = RandomForestRegressor(n_estimators = 50,max_leaf_nodes=50,max_depth=100)"
   ]
  },
  {
   "cell_type": "code",
   "execution_count": 60,
   "id": "807fa3b6",
   "metadata": {},
   "outputs": [
    {
     "data": {
      "text/plain": [
       "RandomForestRegressor(max_depth=100, max_leaf_nodes=50, n_estimators=50)"
      ]
     },
     "execution_count": 60,
     "metadata": {},
     "output_type": "execute_result"
    }
   ],
   "source": [
    "rf.fit(x_train,y_train)"
   ]
  },
  {
   "cell_type": "code",
   "execution_count": 62,
   "id": "18855772",
   "metadata": {},
   "outputs": [
    {
     "data": {
      "text/html": [
       "<div>\n",
       "<style scoped>\n",
       "    .dataframe tbody tr th:only-of-type {\n",
       "        vertical-align: middle;\n",
       "    }\n",
       "\n",
       "    .dataframe tbody tr th {\n",
       "        vertical-align: top;\n",
       "    }\n",
       "\n",
       "    .dataframe thead th {\n",
       "        text-align: right;\n",
       "    }\n",
       "</style>\n",
       "<table border=\"1\" class=\"dataframe\">\n",
       "  <thead>\n",
       "    <tr style=\"text-align: right;\">\n",
       "      <th></th>\n",
       "      <th>row_id</th>\n",
       "      <th>energy</th>\n",
       "    </tr>\n",
       "  </thead>\n",
       "  <tbody>\n",
       "    <tr>\n",
       "      <th>0</th>\n",
       "      <td>94993</td>\n",
       "      <td>1882.660475</td>\n",
       "    </tr>\n",
       "    <tr>\n",
       "      <th>1</th>\n",
       "      <td>94994</td>\n",
       "      <td>1899.405037</td>\n",
       "    </tr>\n",
       "    <tr>\n",
       "      <th>2</th>\n",
       "      <td>94995</td>\n",
       "      <td>1916.149598</td>\n",
       "    </tr>\n",
       "    <tr>\n",
       "      <th>3</th>\n",
       "      <td>94996</td>\n",
       "      <td>1932.894159</td>\n",
       "    </tr>\n",
       "    <tr>\n",
       "      <th>4</th>\n",
       "      <td>94997</td>\n",
       "      <td>1949.638721</td>\n",
       "    </tr>\n",
       "    <tr>\n",
       "      <th>...</th>\n",
       "      <td>...</td>\n",
       "      <td>...</td>\n",
       "    </tr>\n",
       "    <tr>\n",
       "      <th>26299</th>\n",
       "      <td>121292</td>\n",
       "      <td>2428.888693</td>\n",
       "    </tr>\n",
       "    <tr>\n",
       "      <th>26300</th>\n",
       "      <td>121293</td>\n",
       "      <td>2445.633254</td>\n",
       "    </tr>\n",
       "    <tr>\n",
       "      <th>26301</th>\n",
       "      <td>121294</td>\n",
       "      <td>2462.377815</td>\n",
       "    </tr>\n",
       "    <tr>\n",
       "      <th>26302</th>\n",
       "      <td>121295</td>\n",
       "      <td>2479.122376</td>\n",
       "    </tr>\n",
       "    <tr>\n",
       "      <th>26303</th>\n",
       "      <td>121296</td>\n",
       "      <td>2495.866938</td>\n",
       "    </tr>\n",
       "  </tbody>\n",
       "</table>\n",
       "<p>26304 rows × 2 columns</p>\n",
       "</div>"
      ],
      "text/plain": [
       "       row_id       energy\n",
       "0       94993  1882.660475\n",
       "1       94994  1899.405037\n",
       "2       94995  1916.149598\n",
       "3       94996  1932.894159\n",
       "4       94997  1949.638721\n",
       "...       ...          ...\n",
       "26299  121292  2428.888693\n",
       "26300  121293  2445.633254\n",
       "26301  121294  2462.377815\n",
       "26302  121295  2479.122376\n",
       "26303  121296  2495.866938\n",
       "\n",
       "[26304 rows x 2 columns]"
      ]
     },
     "execution_count": 62,
     "metadata": {},
     "output_type": "execute_result"
    }
   ],
   "source": [
    "predict = lr.predict(new_df_test)\n",
    "idx = new_df_test['row_id']\n",
    "data = {'row_id':idx,'energy':predict}\n",
    "dat = pd.DataFrame(data)\n",
    "dat.to_csv('submission3.csv',index=False)\n",
    "final_df = pd.read_csv('submission3.csv')\n",
    "final_df"
   ]
  },
  {
   "cell_type": "code",
   "execution_count": 99,
   "id": "f52b379c",
   "metadata": {},
   "outputs": [],
   "source": [
    "xg = xgb.XGBRegressor(n_estimators = 8, seed = 123,eta=0.4,max_depth=15)"
   ]
  },
  {
   "cell_type": "code",
   "execution_count": 100,
   "id": "1f5cfc10",
   "metadata": {},
   "outputs": [
    {
     "data": {
      "text/plain": [
       "XGBRegressor(base_score=0.5, booster='gbtree', callbacks=None,\n",
       "             colsample_bylevel=1, colsample_bynode=1, colsample_bytree=1,\n",
       "             early_stopping_rounds=None, enable_categorical=False, eta=0.4,\n",
       "             eval_metric=None, feature_types=None, gamma=0, gpu_id=-1,\n",
       "             grow_policy='depthwise', importance_type=None,\n",
       "             interaction_constraints='', learning_rate=0.400000006, max_bin=256,\n",
       "             max_cat_threshold=64, max_cat_to_onehot=4, max_delta_step=0,\n",
       "             max_depth=15, max_leaves=0, min_child_weight=1, missing=nan,\n",
       "             monotone_constraints='()', n_estimators=8, n_jobs=0,\n",
       "             num_parallel_tree=1, predictor='auto', ...)"
      ]
     },
     "execution_count": 100,
     "metadata": {},
     "output_type": "execute_result"
    }
   ],
   "source": [
    "xg.fit(x_train,y_train)"
   ]
  },
  {
   "cell_type": "code",
   "execution_count": 101,
   "id": "657777fa",
   "metadata": {},
   "outputs": [
    {
     "data": {
      "text/html": [
       "<div>\n",
       "<style scoped>\n",
       "    .dataframe tbody tr th:only-of-type {\n",
       "        vertical-align: middle;\n",
       "    }\n",
       "\n",
       "    .dataframe tbody tr th {\n",
       "        vertical-align: top;\n",
       "    }\n",
       "\n",
       "    .dataframe thead th {\n",
       "        text-align: right;\n",
       "    }\n",
       "</style>\n",
       "<table border=\"1\" class=\"dataframe\">\n",
       "  <thead>\n",
       "    <tr style=\"text-align: right;\">\n",
       "      <th></th>\n",
       "      <th>row_id</th>\n",
       "      <th>energy</th>\n",
       "    </tr>\n",
       "  </thead>\n",
       "  <tbody>\n",
       "    <tr>\n",
       "      <th>0</th>\n",
       "      <td>94993</td>\n",
       "      <td>1680.9462</td>\n",
       "    </tr>\n",
       "    <tr>\n",
       "      <th>1</th>\n",
       "      <td>94994</td>\n",
       "      <td>1614.4823</td>\n",
       "    </tr>\n",
       "    <tr>\n",
       "      <th>2</th>\n",
       "      <td>94995</td>\n",
       "      <td>1578.9349</td>\n",
       "    </tr>\n",
       "    <tr>\n",
       "      <th>3</th>\n",
       "      <td>94996</td>\n",
       "      <td>1510.0472</td>\n",
       "    </tr>\n",
       "    <tr>\n",
       "      <th>4</th>\n",
       "      <td>94997</td>\n",
       "      <td>1501.9710</td>\n",
       "    </tr>\n",
       "    <tr>\n",
       "      <th>...</th>\n",
       "      <td>...</td>\n",
       "      <td>...</td>\n",
       "    </tr>\n",
       "    <tr>\n",
       "      <th>26299</th>\n",
       "      <td>121292</td>\n",
       "      <td>2723.5261</td>\n",
       "    </tr>\n",
       "    <tr>\n",
       "      <th>26300</th>\n",
       "      <td>121293</td>\n",
       "      <td>2519.6624</td>\n",
       "    </tr>\n",
       "    <tr>\n",
       "      <th>26301</th>\n",
       "      <td>121294</td>\n",
       "      <td>2334.2236</td>\n",
       "    </tr>\n",
       "    <tr>\n",
       "      <th>26302</th>\n",
       "      <td>121295</td>\n",
       "      <td>2334.2236</td>\n",
       "    </tr>\n",
       "    <tr>\n",
       "      <th>26303</th>\n",
       "      <td>121296</td>\n",
       "      <td>2121.0580</td>\n",
       "    </tr>\n",
       "  </tbody>\n",
       "</table>\n",
       "<p>26304 rows × 2 columns</p>\n",
       "</div>"
      ],
      "text/plain": [
       "       row_id     energy\n",
       "0       94993  1680.9462\n",
       "1       94994  1614.4823\n",
       "2       94995  1578.9349\n",
       "3       94996  1510.0472\n",
       "4       94997  1501.9710\n",
       "...       ...        ...\n",
       "26299  121292  2723.5261\n",
       "26300  121293  2519.6624\n",
       "26301  121294  2334.2236\n",
       "26302  121295  2334.2236\n",
       "26303  121296  2121.0580\n",
       "\n",
       "[26304 rows x 2 columns]"
      ]
     },
     "execution_count": 101,
     "metadata": {},
     "output_type": "execute_result"
    }
   ],
   "source": [
    "predict = xg.predict(new_df_test)\n",
    "idx = new_df_test['row_id']\n",
    "data = {'row_id':idx,'energy':predict}\n",
    "dat = pd.DataFrame(data)\n",
    "dat.to_csv('submission4.csv',index=False)\n",
    "final_df = pd.read_csv('submission4.csv')\n",
    "final_df"
   ]
  },
  {
   "cell_type": "code",
   "execution_count": null,
   "id": "df71de30",
   "metadata": {},
   "outputs": [],
   "source": []
  },
  {
   "cell_type": "code",
   "execution_count": null,
   "id": "978e793b",
   "metadata": {},
   "outputs": [],
   "source": []
  },
  {
   "cell_type": "code",
   "execution_count": null,
   "id": "c061ef25",
   "metadata": {},
   "outputs": [],
   "source": []
  }
 ],
 "metadata": {
  "kernelspec": {
   "display_name": "Python 3 (ipykernel)",
   "language": "python",
   "name": "python3"
  },
  "language_info": {
   "codemirror_mode": {
    "name": "ipython",
    "version": 3
   },
   "file_extension": ".py",
   "mimetype": "text/x-python",
   "name": "python",
   "nbconvert_exporter": "python",
   "pygments_lexer": "ipython3",
   "version": "3.10.4"
  }
 },
 "nbformat": 4,
 "nbformat_minor": 5
}
